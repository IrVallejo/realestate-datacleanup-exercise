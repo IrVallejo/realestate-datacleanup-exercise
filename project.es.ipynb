{
  "cells": [
    {
      "attachments": {},
      "cell_type": "markdown",
      "id": "innocent-university",
      "metadata": {},
      "source": [
        "# Limpieza de bienes raíces\n",
        "\n",
        "Este es un conjunto de datos (dataset) reales que fue descargado usando técnicas de web scraping. La data contiene registros de **Fotocasa**, el cual es uno de los sitios más populares de bienes raíces en España. Por favor no hagas esto (web scraping) a no ser que sea para propósitos académicos.\n",
        "\n",
        "El dataset fue descargado hace algunos años por Henry Navarro y en ningún caso se obtuvo beneficio económico de ello.\n",
        "\n",
        "Contiene miles de datos de casas reales publicadas en la web www.fotocasa.com. Tu objetivo es extraer tanta información como sea posible con el conocimiento que tienes hasta ahora de ciencia de datos, por ejemplo ¿cuál es la casa más cara en todo el dataset?\n",
        "\n",
        "Empecemos precisamente con esa pregunta... ¡Buena suerte!"
      ]
    },
    {
      "attachments": {},
      "cell_type": "markdown",
      "id": "multiple-glass",
      "metadata": {},
      "source": [
        "#### Ejercicio 00. Lee el dataset assets/real_estate.csv e intenta visualizar la tabla (★☆☆)"
      ]
    },
    {
      "cell_type": "code",
      "execution_count": 1,
      "id": "frank-heath",
      "metadata": {},
      "outputs": [
        {
          "data": {
            "text/html": [
              "<div>\n",
              "<style scoped>\n",
              "    .dataframe tbody tr th:only-of-type {\n",
              "        vertical-align: middle;\n",
              "    }\n",
              "\n",
              "    .dataframe tbody tr th {\n",
              "        vertical-align: top;\n",
              "    }\n",
              "\n",
              "    .dataframe thead th {\n",
              "        text-align: right;\n",
              "    }\n",
              "</style>\n",
              "<table border=\"1\" class=\"dataframe\">\n",
              "  <thead>\n",
              "    <tr style=\"text-align: right;\">\n",
              "      <th></th>\n",
              "      <th>Unnamed: 0</th>\n",
              "      <th>id_realEstates</th>\n",
              "      <th>isNew</th>\n",
              "      <th>realEstate_name</th>\n",
              "      <th>phone_realEstate</th>\n",
              "      <th>url_inmueble</th>\n",
              "      <th>rooms</th>\n",
              "      <th>bathrooms</th>\n",
              "      <th>surface</th>\n",
              "      <th>price</th>\n",
              "      <th>...</th>\n",
              "      <th>level4Id</th>\n",
              "      <th>level5Id</th>\n",
              "      <th>level6Id</th>\n",
              "      <th>level7Id</th>\n",
              "      <th>level8Id</th>\n",
              "      <th>accuracy</th>\n",
              "      <th>latitude</th>\n",
              "      <th>longitude</th>\n",
              "      <th>zipCode</th>\n",
              "      <th>customZone</th>\n",
              "    </tr>\n",
              "  </thead>\n",
              "  <tbody>\n",
              "    <tr>\n",
              "      <th>0</th>\n",
              "      <td>1</td>\n",
              "      <td>153771986</td>\n",
              "      <td>False</td>\n",
              "      <td>ferrari 57 inmobiliaria</td>\n",
              "      <td>912177526.0</td>\n",
              "      <td>https://www.fotocasa.es/es/comprar/vivienda/ma...</td>\n",
              "      <td>3.0</td>\n",
              "      <td>2.0</td>\n",
              "      <td>103.0</td>\n",
              "      <td>195000</td>\n",
              "      <td>...</td>\n",
              "      <td>0</td>\n",
              "      <td>0</td>\n",
              "      <td>0</td>\n",
              "      <td>0</td>\n",
              "      <td>0</td>\n",
              "      <td>0</td>\n",
              "      <td>40,2948276786438</td>\n",
              "      <td>-3,44402412135624</td>\n",
              "      <td>NaN</td>\n",
              "      <td>NaN</td>\n",
              "    </tr>\n",
              "    <tr>\n",
              "      <th>1</th>\n",
              "      <td>2</td>\n",
              "      <td>153867863</td>\n",
              "      <td>False</td>\n",
              "      <td>tecnocasa fuenlabrada ferrocarril</td>\n",
              "      <td>916358736.0</td>\n",
              "      <td>https://www.fotocasa.es/es/comprar/vivienda/ma...</td>\n",
              "      <td>3.0</td>\n",
              "      <td>1.0</td>\n",
              "      <td>NaN</td>\n",
              "      <td>89000</td>\n",
              "      <td>...</td>\n",
              "      <td>0</td>\n",
              "      <td>0</td>\n",
              "      <td>0</td>\n",
              "      <td>0</td>\n",
              "      <td>0</td>\n",
              "      <td>1</td>\n",
              "      <td>40,28674</td>\n",
              "      <td>-3,79351</td>\n",
              "      <td>NaN</td>\n",
              "      <td>NaN</td>\n",
              "    </tr>\n",
              "    <tr>\n",
              "      <th>2</th>\n",
              "      <td>3</td>\n",
              "      <td>153430440</td>\n",
              "      <td>False</td>\n",
              "      <td>look find boadilla</td>\n",
              "      <td>916350408.0</td>\n",
              "      <td>https://www.fotocasa.es/es/comprar/vivienda/ma...</td>\n",
              "      <td>2.0</td>\n",
              "      <td>2.0</td>\n",
              "      <td>99.0</td>\n",
              "      <td>390000</td>\n",
              "      <td>...</td>\n",
              "      <td>0</td>\n",
              "      <td>0</td>\n",
              "      <td>0</td>\n",
              "      <td>0</td>\n",
              "      <td>0</td>\n",
              "      <td>0</td>\n",
              "      <td>40,4115646786438</td>\n",
              "      <td>-3,90662252135624</td>\n",
              "      <td>NaN</td>\n",
              "      <td>NaN</td>\n",
              "    </tr>\n",
              "    <tr>\n",
              "      <th>3</th>\n",
              "      <td>4</td>\n",
              "      <td>152776331</td>\n",
              "      <td>False</td>\n",
              "      <td>tecnocasa fuenlabrada ferrocarril</td>\n",
              "      <td>916358736.0</td>\n",
              "      <td>https://www.fotocasa.es/es/comprar/vivienda/ma...</td>\n",
              "      <td>3.0</td>\n",
              "      <td>1.0</td>\n",
              "      <td>86.0</td>\n",
              "      <td>89000</td>\n",
              "      <td>...</td>\n",
              "      <td>0</td>\n",
              "      <td>0</td>\n",
              "      <td>0</td>\n",
              "      <td>0</td>\n",
              "      <td>0</td>\n",
              "      <td>0</td>\n",
              "      <td>40,2853785786438</td>\n",
              "      <td>-3,79508142135624</td>\n",
              "      <td>NaN</td>\n",
              "      <td>NaN</td>\n",
              "    </tr>\n",
              "    <tr>\n",
              "      <th>4</th>\n",
              "      <td>5</td>\n",
              "      <td>153180188</td>\n",
              "      <td>False</td>\n",
              "      <td>ferrari 57 inmobiliaria</td>\n",
              "      <td>912177526.0</td>\n",
              "      <td>https://www.fotocasa.es/es/comprar/vivienda/ma...</td>\n",
              "      <td>2.0</td>\n",
              "      <td>2.0</td>\n",
              "      <td>106.0</td>\n",
              "      <td>172000</td>\n",
              "      <td>...</td>\n",
              "      <td>0</td>\n",
              "      <td>0</td>\n",
              "      <td>0</td>\n",
              "      <td>0</td>\n",
              "      <td>0</td>\n",
              "      <td>0</td>\n",
              "      <td>40,2998774864376</td>\n",
              "      <td>-3,45226301356237</td>\n",
              "      <td>NaN</td>\n",
              "      <td>NaN</td>\n",
              "    </tr>\n",
              "  </tbody>\n",
              "</table>\n",
              "<p>5 rows × 37 columns</p>\n",
              "</div>"
            ],
            "text/plain": [
              "   Unnamed: 0  id_realEstates  isNew                    realEstate_name  \\\n",
              "0           1       153771986  False            ferrari 57 inmobiliaria   \n",
              "1           2       153867863  False  tecnocasa fuenlabrada ferrocarril   \n",
              "2           3       153430440  False                 look find boadilla   \n",
              "3           4       152776331  False  tecnocasa fuenlabrada ferrocarril   \n",
              "4           5       153180188  False            ferrari 57 inmobiliaria   \n",
              "\n",
              "   phone_realEstate                                       url_inmueble  rooms  \\\n",
              "0       912177526.0  https://www.fotocasa.es/es/comprar/vivienda/ma...    3.0   \n",
              "1       916358736.0  https://www.fotocasa.es/es/comprar/vivienda/ma...    3.0   \n",
              "2       916350408.0  https://www.fotocasa.es/es/comprar/vivienda/ma...    2.0   \n",
              "3       916358736.0  https://www.fotocasa.es/es/comprar/vivienda/ma...    3.0   \n",
              "4       912177526.0  https://www.fotocasa.es/es/comprar/vivienda/ma...    2.0   \n",
              "\n",
              "   bathrooms  surface   price  ... level4Id level5Id level6Id level7Id  \\\n",
              "0        2.0    103.0  195000  ...        0        0        0        0   \n",
              "1        1.0      NaN   89000  ...        0        0        0        0   \n",
              "2        2.0     99.0  390000  ...        0        0        0        0   \n",
              "3        1.0     86.0   89000  ...        0        0        0        0   \n",
              "4        2.0    106.0  172000  ...        0        0        0        0   \n",
              "\n",
              "  level8Id accuracy          latitude          longitude zipCode customZone  \n",
              "0        0        0  40,2948276786438  -3,44402412135624     NaN        NaN  \n",
              "1        0        1          40,28674           -3,79351     NaN        NaN  \n",
              "2        0        0  40,4115646786438  -3,90662252135624     NaN        NaN  \n",
              "3        0        0  40,2853785786438  -3,79508142135624     NaN        NaN  \n",
              "4        0        0  40,2998774864376  -3,45226301356237     NaN        NaN  \n",
              "\n",
              "[5 rows x 37 columns]"
            ]
          },
          "execution_count": 1,
          "metadata": {},
          "output_type": "execute_result"
        }
      ],
      "source": [
        "import pandas as pd\n",
        "import numpy as np\n",
        "import matplotlib.pyplot as plt\n",
        "from sklearn.preprocessing import MinMaxScaler\n",
        "\n",
        "# Este archivo CSV contiene puntos y comas en lugar de comas como separadores\n",
        "ds = pd.read_csv('assets/real_estate.csv', sep=';')\n",
        "#ds.columns\n",
        "ds.head(5)"
      ]
    },
    {
      "attachments": {},
      "cell_type": "markdown",
      "id": "latin-guest",
      "metadata": {},
      "source": [
        "#### Ejercicio 01. ¿Cuál es la casa más cara en todo el dataset? (★☆☆)\n",
        "\n",
        "Imprime la dirección y el precio de la casa seleccionada. Por ejemplo:\n",
        "\n",
        "`La casa con dirección en Calle del Prado, Nº20 es la más cara y su precio es de 5000000 USD`"
      ]
    },
    {
      "cell_type": "code",
      "execution_count": 2,
      "id": "developing-optimum",
      "metadata": {},
      "outputs": [
        {
          "name": "stdout",
          "output_type": "stream",
          "text": [
            "La casa con la direccion ['El Escorial'] el precio es de [8500000]\n"
          ]
        }
      ],
      "source": [
        "Precio_Direccion = ds[[\"price\", \"realEstate_name\"]]\n",
        "maximo = Precio_Direccion[\"price\"].max()\n",
        "resultado = ds[ds[\"price\"]==maximo]\n",
        "print(f\"La casa con la direccion {resultado.address.values} el precio es de {resultado.price.values}\")"
      ]
    },
    {
      "attachments": {},
      "cell_type": "markdown",
      "id": "lesser-cosmetic",
      "metadata": {},
      "source": [
        "#### Ejercicio 02. ¿Cuál es la casa más barata del dataset? (★☆☆)\n",
        "\n",
        "Imprime la dirección y el precio de la casa seleccionada. Por ejemplo:\n",
        "\n",
        "`La casa con dirección en Calle Alcalá, Nº58 es la más barata y su precio es de 12000 USD`"
      ]
    },
    {
      "cell_type": "code",
      "execution_count": 3,
      "id": "lovely-oasis",
      "metadata": {},
      "outputs": [
        {
          "name": "stdout",
          "output_type": "stream",
          "text": [
            "La Casa con la dirrecion ['Berlin, Coslada'] tiene un precio de [600]\n"
          ]
        }
      ],
      "source": [
        "# TODO\n",
        "Precios_Mayor_Cero = ds[ds[\"price\"]>0]\n",
        "Minimo = Precios_Mayor_Cero[\"price\"].min()\n",
        "Casa_Barata = Precios_Mayor_Cero[Precios_Mayor_Cero[\"price\"]== Minimo]\n",
        "print(f\"La Casa con la dirrecion {Casa_Barata.address.values} tiene un precio de {Casa_Barata.price.values}\")"
      ]
    },
    {
      "attachments": {},
      "cell_type": "markdown",
      "id": "compliant-fellowship",
      "metadata": {},
      "source": [
        "#### Ejercicio 03. ¿Cuál es la casa más grande y la más pequeña del dataset? (★☆☆)\n",
        "\n",
        "Imprime la dirección y el área de las casas seleccionadas. Por ejemplo:\n",
        "\n",
        "`La casa más grande está ubicada en Calle Gran Vía, Nº38 y su superficie es de 5000 metros`\n",
        "\n",
        "`La casa más pequeña está ubicada en Calle Mayor, Nº12 y su superficie es de 200 metros`"
      ]
    },
    {
      "cell_type": "code",
      "execution_count": 4,
      "id": "every-tiffany",
      "metadata": {},
      "outputs": [
        {
          "name": "stdout",
          "output_type": "stream",
          "text": [
            "La casa con la direccion ['Sevilla la Nueva'] tiene la superficie mas grande con [289000]\n",
            "La casa con la direccion ['Calle Amparo,  Madrid Capital'] tiene la superficie mas chica con [85000]\n"
          ]
        }
      ],
      "source": [
        "# TODO\n",
        "Direccion_Area = ds[[\"realEstate_name\",\"surface\"]]\n",
        "\n",
        "Area_Grande = Direccion_Area[\"surface\"].max()\n",
        "Direccion_Mas_Grande = ds[ds[\"surface\"]==Area_Grande]\n",
        "\n",
        "print(f\"La casa con la direccion {Direccion_Mas_Grande.address.values} tiene la superficie mas grande con {Direccion_Mas_Grande.price.values}\")\n",
        "\n",
        "\n",
        "Area_Chica = Direccion_Area[\"surface\"].min()\n",
        "Direccion_Mas_Chica = ds[ds[\"surface\"]==Area_Chica]\n",
        "print(f\"La casa con la direccion {Direccion_Mas_Chica.address.values} tiene la superficie mas chica con {Direccion_Mas_Chica.price.values}\")\n",
        "\n"
      ]
    },
    {
      "attachments": {},
      "cell_type": "markdown",
      "id": "danish-spirit",
      "metadata": {},
      "source": [
        "#### Ejercicio 04. ¿Cuantas poblaciones (columna level5) contiene el dataset? (★☆☆)\n",
        "\n",
        "Imprime el nombre de las poblaciones separadas por coma. Por ejemplo:\n",
        "\n",
        "`> print(populations)`\n",
        "\n",
        "`population1, population2, population3, ...`"
      ]
    },
    {
      "cell_type": "code",
      "execution_count": 27,
      "id": "exciting-accreditation",
      "metadata": {},
      "outputs": [
        {
          "name": "stdout",
          "output_type": "stream",
          "text": [
            "Arganda del Rey, Fuenlabrada, Boadilla del Monte, Las Rozas de Madrid,  Madrid Capital, Villaviciosa de Odón, Pinto, Valdemoro, Navalcarnero, Pozuelo de Alarcón, Torrejón de Ardoz, Navalagamella, San Sebastián de los Reyes, Rivas-vaciamadrid, Alpedrete, Móstoles, San Fernando de Henares, Coslada, Becerril de la Sierra, Alcalá de Henares, Chinchón, Parla, Alcorcón, El Escorial, Leganés, Pedrezuela, Majadahonda, Villanueva de la Cañada, Villanueva del Pardillo, Torrelodones, Moralzarzal, Mejorada del Campo, Aranjuez, Corpa, Getafe, Velilla de San Antonio, Sevilla la Nueva, San Martín de la Vega, Villalbilla, Collado Villalba, Alcobendas, El Molar (Madrid), Moraleja de Enmedio, Algete, Campo Real, Torrejón de la Calzada, Colmenar Viejo, Valdemorillo, Fuente El Saz de Jarama, Tres Cantos, Arroyomolinos (Madrid), Griñón, Paracuellos de Jarama, Guadarrama, Titulcia, Galapagar, Collado Mediano, Los Molinos, San Lorenzo de El Escorial, Loeches, San Martín de Valdeiglesias, Navas del Rey, Bustarviejo, Manzanares El Real, Carabaña, Casarrubuelos, Cercedilla, Fresnedillas de la Oliva, Valdemaqueda, Robledo de Chavela, Miraflores de la Sierra, Humanes de Madrid, Valdetorres de Jarama, San Agustín del Guadalix, Ciempozuelos, Camarma de Esteruelas, Torres de la Alameda, Talamanca de Jarama, El Atazar, Hoyo de Manzanares, El Boalo - Cerceda – Mataelpino, El Álamo, Valdilecha, Valdeolmos-Alalpardo, Guadalix de la Sierra, Belmonte de Tajo, El Vellón, Brunete, Redueña, Morata de Tajuña, Tielmes, Gargantilla del Lozoya, Meco, Venturada, Quijorna, Cenicientos, Torrejón de Velasco, Navacerrada, Santa María de la Alameda, Orusco de Tajuña, Daganzo de Arriba, Villamanta, Anchuelo, Valdaracete, Ajalvir, Los Santos de la Humosa, Villamanrique de Tajo, Colmenar de Oreja, Villa del Prado, Fuentidueña de Tajo, Colmenar del Arroyo, Valdelaguna, Cubas de la Sagra, Valdeavero, Aldea del Fresno, Ribatejada, Torrelaguna, Batres, Pezuela de las Torres, Colmenarejo, Serranillos del Valle, Cobeña, Soto del Real, El Berrueco, Villanueva de Perales, Fresno de Torote - Serracines, Pozuelo del Rey, Pelayos de la Presa, La Cabrera, Nuevo Baztán, Perales de Tajuña, Villaconejos, Villarejo de Salvanés, Cadalso de los Vidrios, Santorcaz, Madarcos, Garganta de los Montes, Puentes Viejas, Torremocha de Jarama, Valdemanco, Braojos, Lozoyuela-navas-sieteiglesias, Piñuécar-gandullas, Valdepiélagos, Valverde de Alcalá, Villar del Olmo, Villamantilla, Horcajo de la Sierra, Gascones, Zarzalejo, Villavieja del Lozoya, Brea de Tajo, Estremera, Chapinería, Navarredonda, Patones, Ambite, Navalafuente, Lozoya, Canencia, Cabanillas de la Sierra, Buitrago del Lozoya, Fresno de Torote, Robregordo, Pinilla del Valle, Rascafría, La Hiruela, Montejo de la Sierra\n"
          ]
        }
      ],
      "source": [
        "# TODO\n",
        "populations = ds['level5'].unique()\n",
        "print(', '.join(populations))"
      ]
    },
    {
      "attachments": {},
      "cell_type": "markdown",
      "id": "crazy-blame",
      "metadata": {},
      "source": [
        "#### Ejercicio 05. ¿El dataset contiene valores no admitidos (NAs)? (★☆☆)\n",
        "\n",
        "Imprima un booleano (`True` o `False`) seguido de la fila/columna que contiene el NAs."
      ]
    },
    {
      "cell_type": "code",
      "execution_count": 6,
      "id": "transparent-poetry",
      "metadata": {},
      "outputs": [
        {
          "name": "stdout",
          "output_type": "stream",
          "text": [
            "Columnas  con Valores NA: ['realEstate_name', 'phone_realEstate', 'rooms', 'bathrooms', 'surface', 'description', 'level4', 'level6', 'level7', 'level8', 'zipCode', 'customZone']\n",
            "Filas con valores NA:\n",
            "       Unnamed: 0  id_realEstates  isNew                    realEstate_name  \\\n",
            "0               1       153771986  False            ferrari 57 inmobiliaria   \n",
            "1               2       153867863  False  tecnocasa fuenlabrada ferrocarril   \n",
            "2               3       153430440  False                 look find boadilla   \n",
            "3               4       152776331  False  tecnocasa fuenlabrada ferrocarril   \n",
            "4               5       153180188  False            ferrari 57 inmobiliaria   \n",
            "...           ...             ...    ...                                ...   \n",
            "15330       15331       153901377  False                infocasa consulting   \n",
            "15331       15332       150394373  False                inmobiliaria pulpon   \n",
            "15332       15333       153901397  False             tecnocasa torrelodones   \n",
            "15333       15334       152607440  False                inmobiliaria pulpon   \n",
            "15334       15335       153901356  False                infocasa consulting   \n",
            "\n",
            "       phone_realEstate                                       url_inmueble  \\\n",
            "0           912177526.0  https://www.fotocasa.es/es/comprar/vivienda/ma...   \n",
            "1           916358736.0  https://www.fotocasa.es/es/comprar/vivienda/ma...   \n",
            "2           916350408.0  https://www.fotocasa.es/es/comprar/vivienda/ma...   \n",
            "3           916358736.0  https://www.fotocasa.es/es/comprar/vivienda/ma...   \n",
            "4           912177526.0  https://www.fotocasa.es/es/comprar/vivienda/ma...   \n",
            "...                 ...                                                ...   \n",
            "15330       911360461.0  https://www.fotocasa.es/es/comprar/vivienda/ma...   \n",
            "15331       912788039.0  https://www.fotocasa.es/es/comprar/vivienda/ma...   \n",
            "15332       912780348.0  https://www.fotocasa.es/es/comprar/vivienda/ma...   \n",
            "15333       912788039.0  https://www.fotocasa.es/es/comprar/vivienda/ma...   \n",
            "15334       911360461.0  https://www.fotocasa.es/es/comprar/vivienda/ma...   \n",
            "\n",
            "       rooms  bathrooms  surface   price  ... level4Id level5Id level6Id  \\\n",
            "0        3.0        2.0    103.0  195000  ...        0        0        0   \n",
            "1        3.0        1.0      NaN   89000  ...        0        0        0   \n",
            "2        2.0        2.0     99.0  390000  ...        0        0        0   \n",
            "3        3.0        1.0     86.0   89000  ...        0        0        0   \n",
            "4        2.0        2.0    106.0  172000  ...        0        0        0   \n",
            "...      ...        ...      ...     ...  ...      ...      ...      ...   \n",
            "15330    2.0        1.0     96.0  259470  ...        0        0        0   \n",
            "15331    3.0        1.0    150.0  165000  ...        0        0        0   \n",
            "15332    4.0        2.0    175.0  495000  ...        0        0        0   \n",
            "15333    3.0        2.0    101.0  195000  ...        0        0        0   \n",
            "15334    3.0        2.0    152.0  765000  ...        0        0        0   \n",
            "\n",
            "      level7Id level8Id accuracy          latitude          longitude zipCode  \\\n",
            "0            0        0        0  40,2948276786438  -3,44402412135624     NaN   \n",
            "1            0        0        1          40,28674           -3,79351     NaN   \n",
            "2            0        0        0  40,4115646786438  -3,90662252135624     NaN   \n",
            "3            0        0        0  40,2853785786438  -3,79508142135624     NaN   \n",
            "4            0        0        0  40,2998774864376  -3,45226301356237     NaN   \n",
            "...        ...      ...      ...               ...                ...     ...   \n",
            "15330        0        0        0          40,45416           -3,70286     NaN   \n",
            "15331        0        0        0          40,36652           -3,48951     NaN   \n",
            "15332        0        0        0          40,57444           -3,92124     NaN   \n",
            "15333        0        0        0          40,36967           -3,48105     NaN   \n",
            "15334        0        0        0          40,45773           -3,69068     NaN   \n",
            "\n",
            "      customZone  \n",
            "0            NaN  \n",
            "1            NaN  \n",
            "2            NaN  \n",
            "3            NaN  \n",
            "4            NaN  \n",
            "...          ...  \n",
            "15330        NaN  \n",
            "15331        NaN  \n",
            "15332        NaN  \n",
            "15333        NaN  \n",
            "15334        NaN  \n",
            "\n",
            "[15335 rows x 37 columns]\n"
          ]
        }
      ],
      "source": [
        "# TODO\n",
        "hay_na = ds.isna().any().any()\n",
        "\n",
        "columnas_con_na = ds.columns[ds.isna().any()].tolist()\n",
        "print(f\"Columnas  con Valores NA: {columnas_con_na}\")\n",
        "\n",
        "filas_con_na = ds[ds.isna().any(axis=1)]\n",
        "print(\"Filas con valores NA:\")\n",
        "print(filas_con_na)"
      ]
    },
    {
      "attachments": {},
      "cell_type": "markdown",
      "id": "italic-hydrogen",
      "metadata": {},
      "source": [
        "#### Ejercicio 06. Elimina los NAs del dataset, si aplica (★★☆)\n",
        "\n",
        "Imprima una comparación entre las dimensiones del DataFrame original versus el DataFrame después de las eliminaciones.\n"
      ]
    },
    {
      "cell_type": "code",
      "execution_count": 7,
      "id": "administrative-roads",
      "metadata": {},
      "outputs": [
        {
          "name": "stdout",
          "output_type": "stream",
          "text": [
            "Las dimensiones antes de borrar\n",
            "(15335, 37)\n",
            "Las dimensiones despues de borrar \n",
            "(15335, 25)\n"
          ]
        },
        {
          "data": {
            "text/plain": [
              "Unnamed: 0        0\n",
              "id_realEstates    0\n",
              "isNew             0\n",
              "url_inmueble      0\n",
              "price             0\n",
              "date              0\n",
              "address           0\n",
              "country           0\n",
              "level1            0\n",
              "level2            0\n",
              "level3            0\n",
              "level5            0\n",
              "upperLevel        0\n",
              "countryId         0\n",
              "level1Id          0\n",
              "level2Id          0\n",
              "level3Id          0\n",
              "level4Id          0\n",
              "level5Id          0\n",
              "level6Id          0\n",
              "level7Id          0\n",
              "level8Id          0\n",
              "accuracy          0\n",
              "latitude          0\n",
              "longitude         0\n",
              "dtype: int64"
            ]
          },
          "execution_count": 7,
          "metadata": {},
          "output_type": "execute_result"
        }
      ],
      "source": [
        "# TODO\n",
        "ds.isna().sum()\n",
        "ds_sin_na_columnas = ds.dropna(axis=1)\n",
        "\n",
        "print(\"Las dimensiones antes de borrar\") \n",
        "print(ds.shape)\n",
        "print(\"Las dimensiones despues de borrar \")\n",
        "print(ds_sin_na_columnas.shape)\n",
        "#ds_sin_na_columnas.head(5)\n",
        "ds_sin_na_columnas.isna().sum()\n"
      ]
    },
    {
      "attachments": {},
      "cell_type": "markdown",
      "id": "middle-china",
      "metadata": {},
      "source": [
        "#### Ejercicio 07. ¿Cuál la media de precios en la población (columna level5) de \"Arroyomolinos (Madrid)\"? (★★☆)\n",
        "\n",
        "Imprima el valor obtenido."
      ]
    },
    {
      "cell_type": "code",
      "execution_count": 8,
      "id": "nuclear-belief",
      "metadata": {},
      "outputs": [
        {
          "name": "stdout",
          "output_type": "stream",
          "text": [
            "La media de los precios en Arroyomolinos (Madrid) es de: 294541.59854014596\n"
          ]
        }
      ],
      "source": [
        "# TODO\n",
        "price_level5 = ds_sin_na_columnas[[\"price\",\"level5\"]]\n",
        "#price_level5\n",
        "\n",
        "arroyomolinos = price_level5[price_level5[\"level5\"]==\"Arroyomolinos (Madrid)\"]\n",
        "media_arroyomolinos = arroyomolinos[\"price\"].mean()\n",
        "print(f\"La media de los precios en Arroyomolinos (Madrid) es de: {media_arroyomolinos}\")"
      ]
    },
    {
      "attachments": {},
      "cell_type": "markdown",
      "id": "concerned-radical",
      "metadata": {},
      "source": [
        "#### Ejercicio 08. Trazar el histograma de los precios para la población (level5 column) de \"Arroyomolinos (Madrid)\" y explica qué observas (★★☆)\n",
        "\n",
        "Imprime el histograma de los precios y escribe en la celda del Markdown un breve análisis del trazado.\n"
      ]
    },
    {
      "cell_type": "code",
      "execution_count": 9,
      "id": "sudden-message",
      "metadata": {},
      "outputs": [
        {
          "data": {
            "text/plain": [
              "<Axes: >"
            ]
          },
          "execution_count": 9,
          "metadata": {},
          "output_type": "execute_result"
        },
        {
          "data": {
            "image/png": "[encoded data removed]",
            "text/plain": [
              "<Figure size 640x480 with 1 Axes>"
            ]
          },
          "metadata": {},
          "output_type": "display_data"
        }
      ],
      "source": [
        "#TODO\n",
        "import matplotlib.pyplot as plt\n",
        "arroyomolinos[\"price\"].hist()\n"
      ]
    },
    {
      "attachments": {},
      "cell_type": "markdown",
      "id": "impressed-combination",
      "metadata": {},
      "source": [
        "1. En la grafica podemos observar que el precio mas elevado son los casi 600000\n",
        "1. La mayoria estan situados en 180k y 410k"
      ]
    },
    {
      "attachments": {},
      "cell_type": "markdown",
      "id": "actual-edinburgh",
      "metadata": {},
      "source": [
        "#### Ejercicio 09. ¿Son los precios promedios de \"Valdemorillo\" y \"Galapagar\" los mismos? (★★☆)\n",
        "\n",
        "Imprime ambos promedios y escribe una conclusión sobre ellos."
      ]
    },
    {
      "cell_type": "code",
      "execution_count": 10,
      "id": "numeric-commerce",
      "metadata": {},
      "outputs": [
        {
          "name": "stdout",
          "output_type": "stream",
          "text": [
            "La media de los precios en Valdemorillo es de: 363860.2931034483\n",
            "La media de los precios en Galapagar es de: 360063.20238095237\n",
            "3797.090722495923\n"
          ]
        }
      ],
      "source": [
        "# TODO\n",
        "\n",
        "Valdemorillo_Filtro = price_level5[price_level5[\"level5\"]==\"Valdemorillo\"]\n",
        "media_Valdemorillo = Valdemorillo_Filtro[\"price\"].mean()\n",
        "print(f\"La media de los precios en Valdemorillo es de: {media_Valdemorillo}\")\n",
        "\n",
        "Galapagar_Filtro = price_level5[price_level5[\"level5\"]==\"Galapagar\"]\n",
        "media_Galapagar = Galapagar_Filtro[\"price\"].mean()\n",
        "print(f\"La media de los precios en Galapagar es de: {media_Galapagar}\")\n",
        "\n",
        "print(media_Valdemorillo-media_Galapagar)"
      ]
    },
    {
      "cell_type": "markdown",
      "id": "174ed8be",
      "metadata": {},
      "source": [
        "1. Los precios promedios no son los mismos pero si muy cercanos\n",
        "1. La diferencia entre los precios es de apenas 3797.09"
      ]
    },
    {
      "attachments": {},
      "cell_type": "markdown",
      "id": "lonely-article",
      "metadata": {},
      "source": [
        "#### Ejercicio 10. ¿Son los promedios de precio por metro cuadrado (precio/m2) de \"Valdemorillo\" y \"Galapagar\" los mismos? (★★☆)\n",
        "\n",
        "Imprime ambos promedios de precio por metro cuadrado y escribe una conclusión sobre ellos.\n",
        "\n",
        "Pista: Crea una nueva columna llamada `pps` (*price per square* o precio por metro cuadrado) y luego analiza los valores."
      ]
    },
    {
      "cell_type": "code",
      "execution_count": 11,
      "id": "hourly-globe",
      "metadata": {},
      "outputs": [
        {
          "name": "stdout",
          "output_type": "stream",
          "text": [
            "El promedio por metro cuadrado en Valdemorillo es de: 1317.9502109024984\n",
            "El promedio por metro cuadrado en Galapagarar es de: 1606.3240303094024\n"
          ]
        }
      ],
      "source": [
        "# TODO\n",
        "\n",
        "price_Level5_surface = ds[[\"price\",\"level5\",\"surface\"]].copy()\n",
        "price_Level5_surface\n",
        "\n",
        "price_Level5_surface[\"pps\"] = price_Level5_surface[\"price\"] / price_Level5_surface[\"surface\"]\n",
        "\n",
        "pps_sin_na = price_Level5_surface.dropna()\n",
        "\n",
        "\n",
        "Valde = pps_sin_na[pps_sin_na[\"level5\"]==\"Valdemorillo\"]\n",
        "media_pps_Valde = Valde[\"pps\"].mean()\n",
        "print(f\"El promedio por metro cuadrado en Valdemorillo es de: {media_pps_Valde}\")\n",
        "\n",
        "Galapagar = pps_sin_na[pps_sin_na[\"level5\"]==\"Galapagar\"]\n",
        "media_pps_Galapagar = Galapagar[\"pps\"].mean()\n",
        "print(f\"El promedio por metro cuadrado en Galapagarar es de: {media_pps_Galapagar}\")\n",
        "\n",
        "\n"
      ]
    },
    {
      "attachments": {},
      "cell_type": "markdown",
      "id": "pleasant-invite",
      "metadata": {},
      "source": [
        "#### Ejercicio 11. Analiza la relación entre la superficie y el precio de las casas. (★★☆)\n",
        "\n",
        "Pista: Puedes hacer un `scatter plot` y luego escribir una conclusión al respecto."
      ]
    },
    {
      "cell_type": "code",
      "execution_count": 12,
      "id": "common-drilling",
      "metadata": {},
      "outputs": [
        {
          "data": {
            "text/plain": [
              "(0.0, 2000.0)"
            ]
          },
          "execution_count": 12,
          "metadata": {},
          "output_type": "execute_result"
        },
        {
          "data": {
            "image/png": "[encoded data removed]",
            "text/plain": [
              "<Figure size 640x480 with 1 Axes>"
            ]
          },
          "metadata": {},
          "output_type": "display_data"
        }
      ],
      "source": [
        "# TODO: Código\n",
        "plt.scatter(pps_sin_na[\"surface\"], pps_sin_na[\"price\"])\n",
        "\n",
        "plt.xlim([0, 2000])"
      ]
    },
    {
      "attachments": {},
      "cell_type": "markdown",
      "id": "ahead-liquid",
      "metadata": {},
      "source": [
        "**TODO: Markdown**. Para escribir aquí, haz doble clic en esta celda, elimina este contenido y coloca lo que quieras escribir. Luego ejecuta la celda."
      ]
    },
    {
      "attachments": {},
      "cell_type": "markdown",
      "id": "coordinate-sunrise",
      "metadata": {},
      "source": [
        "#### Ejercicio 12. ¿Cuántas agencia de bienes raíces contiene el dataset? (★★☆)\n",
        "\n",
        "Imprime el valor obtenido."
      ]
    },
    {
      "cell_type": "code",
      "execution_count": 13,
      "id": "valid-honolulu",
      "metadata": {},
      "outputs": [
        {
          "name": "stdout",
          "output_type": "stream",
          "text": [
            "Cantidad de agencias 1821, Caules son las agencias ['ferrari 57 inmobiliaria' 'tecnocasa fuenlabrada ferrocarril'\n",
            " 'look find boadilla' ... 'redpiso villaverde bajo san cristobal'\n",
            " 'gestion comercial' 'nieves']\n"
          ]
        }
      ],
      "source": [
        "# TODO\n",
        "\n",
        "Agencias_cantidad = ds[\"realEstate_name\"].nunique()\n",
        "Agencias_Valores = ds[\"realEstate_name\"].unique()\n",
        "\n",
        "print(f\"Cantidad de agencias {Agencias_cantidad}, Caules son las agencias {Agencias_Valores}\")"
      ]
    },
    {
      "attachments": {},
      "cell_type": "markdown",
      "id": "binding-ebony",
      "metadata": {},
      "source": [
        "#### Ejercicio 13. ¿Cuál es la población (columna level5) que contiene la mayor cantidad de casas?(★★☆)\n",
        "\n",
        "Imprima la población y el número de casas."
      ]
    },
    {
      "cell_type": "code",
      "execution_count": 14,
      "id": "static-perry",
      "metadata": {},
      "outputs": [
        {
          "name": "stdout",
          "output_type": "stream",
          "text": [
            "La poblacion con el mayor numero de casas es  Madrid Capital con 6237 casas\n"
          ]
        }
      ],
      "source": [
        "# TODO\n",
        "\n",
        "Conteo_level5 = pps_sin_na[\"level5\"].value_counts()\n",
        "\n",
        "level5_Cantidad_Casas = Conteo_level5.idxmax()\n",
        "numero_casas = Conteo_level5.max()\n",
        "\n",
        "print(f\"La poblacion con el mayor numero de casas es {level5_Cantidad_Casas} con {numero_casas} casas\")\n"
      ]
    },
    {
      "attachments": {},
      "cell_type": "markdown",
      "id": "entire-classification",
      "metadata": {},
      "source": [
        "#### Ejercicio 14. Ahora vamos a trabajar con el \"cinturón sur\" de Madrid. Haz un subconjunto del DataFrame original que contenga las siguientes poblaciones (columna level5): \"Fuenlabrada\", \"Leganés\", \"Getafe\", \"Alcorcón\" (★★☆)\n",
        "\n",
        "Pista: Filtra el DataFrame original usando la columna `level5` y la función `isin`."
      ]
    },
    {
      "cell_type": "code",
      "execution_count": 15,
      "id": "binary-input",
      "metadata": {},
      "outputs": [
        {
          "data": {
            "text/html": [
              "<div>\n",
              "<style scoped>\n",
              "    .dataframe tbody tr th:only-of-type {\n",
              "        vertical-align: middle;\n",
              "    }\n",
              "\n",
              "    .dataframe tbody tr th {\n",
              "        vertical-align: top;\n",
              "    }\n",
              "\n",
              "    .dataframe thead th {\n",
              "        text-align: right;\n",
              "    }\n",
              "</style>\n",
              "<table border=\"1\" class=\"dataframe\">\n",
              "  <thead>\n",
              "    <tr style=\"text-align: right;\">\n",
              "      <th></th>\n",
              "      <th>Unnamed: 0</th>\n",
              "      <th>id_realEstates</th>\n",
              "      <th>isNew</th>\n",
              "      <th>realEstate_name</th>\n",
              "      <th>phone_realEstate</th>\n",
              "      <th>url_inmueble</th>\n",
              "      <th>rooms</th>\n",
              "      <th>bathrooms</th>\n",
              "      <th>surface</th>\n",
              "      <th>price</th>\n",
              "      <th>...</th>\n",
              "      <th>level4Id</th>\n",
              "      <th>level5Id</th>\n",
              "      <th>level6Id</th>\n",
              "      <th>level7Id</th>\n",
              "      <th>level8Id</th>\n",
              "      <th>accuracy</th>\n",
              "      <th>latitude</th>\n",
              "      <th>longitude</th>\n",
              "      <th>zipCode</th>\n",
              "      <th>customZone</th>\n",
              "    </tr>\n",
              "  </thead>\n",
              "  <tbody>\n",
              "    <tr>\n",
              "      <th>13007</th>\n",
              "      <td>13008</td>\n",
              "      <td>153557706</td>\n",
              "      <td>False</td>\n",
              "      <td>100 home red inmobiliaria</td>\n",
              "      <td>912669625.0</td>\n",
              "      <td>https://www.fotocasa.es/es/comprar/vivienda/fu...</td>\n",
              "      <td>2.0</td>\n",
              "      <td>1.0</td>\n",
              "      <td>77.0</td>\n",
              "      <td>126100</td>\n",
              "      <td>...</td>\n",
              "      <td>0</td>\n",
              "      <td>0</td>\n",
              "      <td>0</td>\n",
              "      <td>0</td>\n",
              "      <td>0</td>\n",
              "      <td>0</td>\n",
              "      <td>40,3335821864376</td>\n",
              "      <td>-3,76873891356237</td>\n",
              "      <td>NaN</td>\n",
              "      <td>NaN</td>\n",
              "    </tr>\n",
              "    <tr>\n",
              "      <th>6771</th>\n",
              "      <td>6772</td>\n",
              "      <td>151258099</td>\n",
              "      <td>False</td>\n",
              "      <td>mb gestion inmobiliaria</td>\n",
              "      <td>911795627.0</td>\n",
              "      <td>https://www.fotocasa.es/es/comprar/vivienda/sa...</td>\n",
              "      <td>4.0</td>\n",
              "      <td>2.0</td>\n",
              "      <td>120.0</td>\n",
              "      <td>265000</td>\n",
              "      <td>...</td>\n",
              "      <td>0</td>\n",
              "      <td>0</td>\n",
              "      <td>0</td>\n",
              "      <td>0</td>\n",
              "      <td>0</td>\n",
              "      <td>0</td>\n",
              "      <td>40,28775</td>\n",
              "      <td>-3,81949</td>\n",
              "      <td>NaN</td>\n",
              "      <td>NaN</td>\n",
              "    </tr>\n",
              "    <tr>\n",
              "      <th>2072</th>\n",
              "      <td>2073</td>\n",
              "      <td>152164231</td>\n",
              "      <td>False</td>\n",
              "      <td>grupo gonzalez gervaso</td>\n",
              "      <td>914871849.0</td>\n",
              "      <td>https://www.fotocasa.es/es/comprar/vivienda/ar...</td>\n",
              "      <td>4.0</td>\n",
              "      <td>3.0</td>\n",
              "      <td>156.0</td>\n",
              "      <td>379000</td>\n",
              "      <td>...</td>\n",
              "      <td>0</td>\n",
              "      <td>0</td>\n",
              "      <td>0</td>\n",
              "      <td>0</td>\n",
              "      <td>0</td>\n",
              "      <td>1</td>\n",
              "      <td>40,32635</td>\n",
              "      <td>-3,72974</td>\n",
              "      <td>NaN</td>\n",
              "      <td>NaN</td>\n",
              "    </tr>\n",
              "    <tr>\n",
              "      <th>4648</th>\n",
              "      <td>4649</td>\n",
              "      <td>153117165</td>\n",
              "      <td>False</td>\n",
              "      <td>m nuevasur</td>\n",
              "      <td>916359035.0</td>\n",
              "      <td>https://www.fotocasa.es/es/comprar/vivienda/cu...</td>\n",
              "      <td>3.0</td>\n",
              "      <td>2.0</td>\n",
              "      <td>NaN</td>\n",
              "      <td>196000</td>\n",
              "      <td>...</td>\n",
              "      <td>0</td>\n",
              "      <td>0</td>\n",
              "      <td>0</td>\n",
              "      <td>0</td>\n",
              "      <td>0</td>\n",
              "      <td>0</td>\n",
              "      <td>40,2942943</td>\n",
              "      <td>-3,7890764</td>\n",
              "      <td>NaN</td>\n",
              "      <td>NaN</td>\n",
              "    </tr>\n",
              "    <tr>\n",
              "      <th>13951</th>\n",
              "      <td>13952</td>\n",
              "      <td>150500527</td>\n",
              "      <td>False</td>\n",
              "      <td>identy</td>\n",
              "      <td>NaN</td>\n",
              "      <td>https://www.fotocasa.es/vivienda/torrejon-de-a...</td>\n",
              "      <td>3.0</td>\n",
              "      <td>3.0</td>\n",
              "      <td>227.0</td>\n",
              "      <td>375000</td>\n",
              "      <td>...</td>\n",
              "      <td>0</td>\n",
              "      <td>0</td>\n",
              "      <td>0</td>\n",
              "      <td>0</td>\n",
              "      <td>0</td>\n",
              "      <td>0</td>\n",
              "      <td>40,30546</td>\n",
              "      <td>-3,75275</td>\n",
              "      <td>NaN</td>\n",
              "      <td>NaN</td>\n",
              "    </tr>\n",
              "  </tbody>\n",
              "</table>\n",
              "<p>5 rows × 37 columns</p>\n",
              "</div>"
            ],
            "text/plain": [
              "       Unnamed: 0  id_realEstates  isNew            realEstate_name  \\\n",
              "13007       13008       153557706  False  100 home red inmobiliaria   \n",
              "6771         6772       151258099  False    mb gestion inmobiliaria   \n",
              "2072         2073       152164231  False     grupo gonzalez gervaso   \n",
              "4648         4649       153117165  False                 m nuevasur   \n",
              "13951       13952       150500527  False                     identy   \n",
              "\n",
              "       phone_realEstate                                       url_inmueble  \\\n",
              "13007       912669625.0  https://www.fotocasa.es/es/comprar/vivienda/fu...   \n",
              "6771        911795627.0  https://www.fotocasa.es/es/comprar/vivienda/sa...   \n",
              "2072        914871849.0  https://www.fotocasa.es/es/comprar/vivienda/ar...   \n",
              "4648        916359035.0  https://www.fotocasa.es/es/comprar/vivienda/cu...   \n",
              "13951               NaN  https://www.fotocasa.es/vivienda/torrejon-de-a...   \n",
              "\n",
              "       rooms  bathrooms  surface   price  ... level4Id level5Id level6Id  \\\n",
              "13007    2.0        1.0     77.0  126100  ...        0        0        0   \n",
              "6771     4.0        2.0    120.0  265000  ...        0        0        0   \n",
              "2072     4.0        3.0    156.0  379000  ...        0        0        0   \n",
              "4648     3.0        2.0      NaN  196000  ...        0        0        0   \n",
              "13951    3.0        3.0    227.0  375000  ...        0        0        0   \n",
              "\n",
              "      level7Id level8Id accuracy          latitude          longitude zipCode  \\\n",
              "13007        0        0        0  40,3335821864376  -3,76873891356237     NaN   \n",
              "6771         0        0        0          40,28775           -3,81949     NaN   \n",
              "2072         0        0        1          40,32635           -3,72974     NaN   \n",
              "4648         0        0        0        40,2942943         -3,7890764     NaN   \n",
              "13951        0        0        0          40,30546           -3,75275     NaN   \n",
              "\n",
              "      customZone  \n",
              "13007        NaN  \n",
              "6771         NaN  \n",
              "2072         NaN  \n",
              "4648         NaN  \n",
              "13951        NaN  \n",
              "\n",
              "[5 rows x 37 columns]"
            ]
          },
          "execution_count": 15,
          "metadata": {},
          "output_type": "execute_result"
        }
      ],
      "source": [
        "# TODO\n",
        "\n",
        "Cinturon_sur = [\"Fuenlabrada\", \"Leganés\", \"Getafe\", \"Alcorcón\"]\n",
        "subconjunto = ds[ds[\"level5\"].isin(Cinturon_sur)]\n",
        "subconjunto.sample(5)\n",
        "#subconjunto.sample(10)\n",
        "#print(subconjunto)\n"
      ]
    },
    {
      "attachments": {},
      "cell_type": "markdown",
      "id": "severe-fisher",
      "metadata": {},
      "source": [
        "#### Ejercicio 15. Traza un gráfico de barras de la mediana de los precios y explica lo que observas (debes usar el subconjunto obtenido del Ejercicio 14) (★★★)\n",
        "\n",
        "Imprima un gráfico de barras de la mediana de precios y escriba en la celda Markdown un breve análisis sobre el gráfico."
      ]
    },
    {
      "cell_type": "code",
      "execution_count": 16,
      "id": "lyric-bunch",
      "metadata": {},
      "outputs": [
        {
          "data": {
            "image/png": "[encoded data removed]",
            "text/plain": [
              "<Figure size 640x480 with 1 Axes>"
            ]
          },
          "metadata": {},
          "output_type": "display_data"
        }
      ],
      "source": [
        "# TODO: Code\n",
        "#ds.columns\n",
        "#df = ds[[\"price\", \"surface\", \"rooms\", \"bathrooms\", \"level5\", \"latitude\", \"longitude\"]]\n",
        "mediana_precios = subconjunto.groupby(\"level5\")[\"price\"].median()\n",
        "\n",
        "mediana_precios.plot(kind=\"hist\")\n",
        "plt.show()\n"
      ]
    },
    {
      "attachments": {},
      "cell_type": "markdown",
      "id": "sublime-newspaper",
      "metadata": {},
      "source": [
        "**TODO: Markdown**. Para escribir aquí, haz doble clic en esta celda, elimina este contenido y coloca lo que quieras escribir. Luego ejecuta la celda."
      ]
    },
    {
      "attachments": {},
      "cell_type": "markdown",
      "id": "speaking-diamond",
      "metadata": {},
      "source": [
        "#### Ejercicio 16. Calcula la media y la varianza de muestra para las siguientes variables: precio, habitaciones, superficie y baños (debes usar el subconjunto obtenido del Ejercicio 14) (★★★)\n",
        "\n",
        "Imprime ambos valores por cada variable."
      ]
    },
    {
      "cell_type": "code",
      "execution_count": 17,
      "id": "random-feeling",
      "metadata": {},
      "outputs": [
        {
          "name": "stdout",
          "output_type": "stream",
          "text": [
            "La media es de \n",
            "price        223094.480706\n",
            "rooms             3.017738\n",
            "surface         111.752224\n",
            "bathrooms         1.633222\n",
            "dtype: float64\n",
            "\n",
            "La varianza es de \n",
            "price        1.492137e+10\n",
            "rooms        7.188859e-01\n",
            "surface      4.263052e+03\n",
            "bathrooms    5.717969e-01\n",
            "dtype: float64 \n"
          ]
        }
      ],
      "source": [
        "# TODO\n",
        "Variables = subconjunto[[\"price\",\"rooms\", \"surface\", \"bathrooms\"]]\n",
        "media = Variables.mean()\n",
        "print(f\"La media es de \\n{media}\\n\")\n",
        "varianza = Variables.var()\n",
        "print(f\"La varianza es de \\n{varianza} \")"
      ]
    },
    {
      "attachments": {},
      "cell_type": "markdown",
      "id": "revolutionary-matrix",
      "metadata": {},
      "source": [
        "#### Ejercicio 17. ¿Cuál es la casa más cara de cada población? Debes usar el subset obtenido en la pregunta 14 (★★☆)\n",
        "\n",
        "Imprime tanto la dirección como el precio de la casa seleccionada de cada población. Puedes imprimir un DataFrame o una sola línea para cada población."
      ]
    },
    {
      "cell_type": "code",
      "execution_count": 18,
      "id": "fifteen-browse",
      "metadata": {},
      "outputs": [
        {
          "data": {
            "text/html": [
              "<div>\n",
              "<style scoped>\n",
              "    .dataframe tbody tr th:only-of-type {\n",
              "        vertical-align: middle;\n",
              "    }\n",
              "\n",
              "    .dataframe tbody tr th {\n",
              "        vertical-align: top;\n",
              "    }\n",
              "\n",
              "    .dataframe thead th {\n",
              "        text-align: right;\n",
              "    }\n",
              "</style>\n",
              "<table border=\"1\" class=\"dataframe\">\n",
              "  <thead>\n",
              "    <tr style=\"text-align: right;\">\n",
              "      <th></th>\n",
              "      <th>level5</th>\n",
              "      <th>price</th>\n",
              "      <th>realEstate_name</th>\n",
              "    </tr>\n",
              "  </thead>\n",
              "  <tbody>\n",
              "    <tr>\n",
              "      <th>2881</th>\n",
              "      <td>Getafe</td>\n",
              "      <td>1050000</td>\n",
              "      <td>unna grupo inmobiliario</td>\n",
              "    </tr>\n",
              "    <tr>\n",
              "      <th>5585</th>\n",
              "      <td>Alcorcón</td>\n",
              "      <td>950000</td>\n",
              "      <td>100 home red inmobiliaria</td>\n",
              "    </tr>\n",
              "    <tr>\n",
              "      <th>10412</th>\n",
              "      <td>Leganés</td>\n",
              "      <td>650000</td>\n",
              "      <td>bafre gestion y servicios inmobiliarios</td>\n",
              "    </tr>\n",
              "    <tr>\n",
              "      <th>11561</th>\n",
              "      <td>Fuenlabrada</td>\n",
              "      <td>490000</td>\n",
              "      <td>unna madrid</td>\n",
              "    </tr>\n",
              "  </tbody>\n",
              "</table>\n",
              "</div>"
            ],
            "text/plain": [
              "            level5    price                          realEstate_name\n",
              "2881        Getafe  1050000                  unna grupo inmobiliario\n",
              "5585      Alcorcón   950000                100 home red inmobiliaria\n",
              "10412      Leganés   650000  bafre gestion y servicios inmobiliarios\n",
              "11561  Fuenlabrada   490000                              unna madrid"
            ]
          },
          "execution_count": 18,
          "metadata": {},
          "output_type": "execute_result"
        }
      ],
      "source": [
        "# TODO\n",
        "\n",
        "max_price = subconjunto.groupby(\"level5\")[\"price\"].max()\n",
        "resultado = subconjunto[subconjunto.apply(lambda x: x['price'] == max_price[x['level5']], axis=1)]\n",
        "resultado_direccion = resultado[['level5', 'price', \"realEstate_name\"]]\n",
        "resultado_direccion"
      ]
    },
    {
      "attachments": {},
      "cell_type": "markdown",
      "id": "activated-knight",
      "metadata": {},
      "source": [
        "#### Ejercicio 18. Normaliza la variable de precios para cada población y traza los 4 histogramas en el mismo gráfico (debes usar el subconjunto obtenido en la pregunta 14) (★★★)\n",
        "\n",
        "Para el método de normalización, puedes usar el que consideres adecuado, no hay una única respuesta correcta para esta pregunta. Imprime el gráfico y escribe en la celda de Markdown un breve análisis sobre el gráfico.\n",
        "\n",
        "Pista: Puedes ayudarte revisando la demostración multihist de Matplotlib."
      ]
    },
    {
      "cell_type": "code",
      "execution_count": 19,
      "id": "civic-meditation",
      "metadata": {},
      "outputs": [
        {
          "name": "stderr",
          "output_type": "stream",
          "text": [
            "/tmp/ipykernel_1319/2866651891.py:6: SettingWithCopyWarning: \n",
            "A value is trying to be set on a copy of a slice from a DataFrame.\n",
            "Try using .loc[row_indexer,col_indexer] = value instead\n",
            "\n",
            "See the caveats in the documentation: https://pandas.pydata.org/pandas-docs/stable/user_guide/indexing.html#returning-a-view-versus-a-copy\n",
            "  subconjunto['precio_normalizado'] = subconjunto.groupby('level5')['price'].transform(lambda x: scaler.fit_transform(x.values.reshape(-1, 1)).ravel())\n"
          ]
        },
        {
          "data": {
            "image/png": "[encoded data removed]",
            "text/plain": [
              "<Figure size 1000x600 with 1 Axes>"
            ]
          },
          "metadata": {},
          "output_type": "display_data"
        }
      ],
      "source": [
        "# TODO\n",
        "# Inicializar el scaler\n",
        "scaler = MinMaxScaler()\n",
        "\n",
        "# Normalizar los precios por grupo\n",
        "subconjunto['precio_normalizado'] = subconjunto.groupby('level5')['price'].transform(lambda x: scaler.fit_transform(x.values.reshape(-1, 1)).ravel())\n",
        "\n",
        "plt.figure(figsize=(10, 6))\n",
        "\n",
        "for poblacion in Cinturon_sur:\n",
        "    subset = subconjunto[subconjunto['level5'] == poblacion]\n",
        "    plt.hist(subset['precio_normalizado'], alpha=0.5, label=poblacion, bins=20)\n",
        "\n",
        "# Configuraciones del gráfico\n",
        "plt.title('Histogramas de Precios Normalizados por Población')\n",
        "plt.xlabel('Precio Normalizado')\n",
        "plt.ylabel('Frecuencia')\n",
        "plt.legend(loc='upper right')\n",
        "\n",
        "# Mostrar el gráfico\n",
        "plt.show()"
      ]
    },
    {
      "attachments": {},
      "cell_type": "markdown",
      "id": "precise-heavy",
      "metadata": {},
      "source": [
        "**TODO: Markdown**. Para escribir aquí, haz doble clic en esta celda, elimina este contenido y coloca lo que quieras escribir. Luego ejecuta la celda."
      ]
    },
    {
      "attachments": {},
      "cell_type": "markdown",
      "id": "patent-jonathan",
      "metadata": {},
      "source": [
        "#### Ejercicio 19. ¿Qué puedes decir sobre el precio por metro cuadrado (precio/m2) entre los municipios de 'Getafe' y 'Alcorcón'? Debes usar el subconjunto obtenido en la pregunta 14 (★★☆)\n",
        "\n",
        "Pista: Crea una nueva columna llamada `pps` (price per square en inglés) y luego analiza los valores"
      ]
    },
    {
      "cell_type": "code",
      "execution_count": 20,
      "id": "initial-liverpool",
      "metadata": {},
      "outputs": [
        {
          "name": "stderr",
          "output_type": "stream",
          "text": [
            "/tmp/ipykernel_1319/1341395797.py:2: SettingWithCopyWarning: \n",
            "A value is trying to be set on a copy of a slice from a DataFrame.\n",
            "Try using .loc[row_indexer,col_indexer] = value instead\n",
            "\n",
            "See the caveats in the documentation: https://pandas.pydata.org/pandas-docs/stable/user_guide/indexing.html#returning-a-view-versus-a-copy\n",
            "  subconjunto[\"pps\"] = subconjunto[\"price\"] / subconjunto[\"surface\"]\n"
          ]
        },
        {
          "data": {
            "text/html": [
              "<div>\n",
              "<style scoped>\n",
              "    .dataframe tbody tr th:only-of-type {\n",
              "        vertical-align: middle;\n",
              "    }\n",
              "\n",
              "    .dataframe tbody tr th {\n",
              "        vertical-align: top;\n",
              "    }\n",
              "\n",
              "    .dataframe thead th {\n",
              "        text-align: right;\n",
              "    }\n",
              "</style>\n",
              "<table border=\"1\" class=\"dataframe\">\n",
              "  <thead>\n",
              "    <tr style=\"text-align: right;\">\n",
              "      <th></th>\n",
              "      <th>Unnamed: 0</th>\n",
              "      <th>id_realEstates</th>\n",
              "      <th>isNew</th>\n",
              "      <th>realEstate_name</th>\n",
              "      <th>phone_realEstate</th>\n",
              "      <th>url_inmueble</th>\n",
              "      <th>rooms</th>\n",
              "      <th>bathrooms</th>\n",
              "      <th>surface</th>\n",
              "      <th>price</th>\n",
              "      <th>...</th>\n",
              "      <th>level6Id</th>\n",
              "      <th>level7Id</th>\n",
              "      <th>level8Id</th>\n",
              "      <th>accuracy</th>\n",
              "      <th>latitude</th>\n",
              "      <th>longitude</th>\n",
              "      <th>zipCode</th>\n",
              "      <th>customZone</th>\n",
              "      <th>precio_normalizado</th>\n",
              "      <th>pps</th>\n",
              "    </tr>\n",
              "  </thead>\n",
              "  <tbody>\n",
              "  </tbody>\n",
              "</table>\n",
              "<p>0 rows × 39 columns</p>\n",
              "</div>"
            ],
            "text/plain": [
              "Empty DataFrame\n",
              "Columns: [Unnamed: 0, id_realEstates, isNew, realEstate_name, phone_realEstate, url_inmueble, rooms, bathrooms, surface, price, date, description, address, country, level1, level2, level3, level4, level5, level6, level7, level8, upperLevel, countryId, level1Id, level2Id, level3Id, level4Id, level5Id, level6Id, level7Id, level8Id, accuracy, latitude, longitude, zipCode, customZone, precio_normalizado, pps]\n",
              "Index: []\n",
              "\n",
              "[0 rows x 39 columns]"
            ]
          },
          "execution_count": 20,
          "metadata": {},
          "output_type": "execute_result"
        }
      ],
      "source": [
        "# TODO\n",
        "subconjunto[\"pps\"] = subconjunto[\"price\"] / subconjunto[\"surface\"]\n",
        "Getafe_Alcorcon = subconjunto[(subconjunto['level5'] == \"Getafe\") & (subconjunto['level5'] == \"Alcorcón\")]\n",
        "Getafe_Alcorcon"
      ]
    },
    {
      "attachments": {},
      "cell_type": "markdown",
      "id": "enhanced-moscow",
      "metadata": {},
      "source": [
        "#### Ejercicio 20. Realiza el mismo gráfico para 4 poblaciones diferentes (columna level5) y colócalos en el mismo gráfico. Debes usar el subconjunto obtenido en la pregunta 14 (★★☆) \n",
        "Pista: Haz un diagrama de dispersión de cada población usando subgráficos (subplots)."
      ]
    },
    {
      "cell_type": "code",
      "execution_count": 28,
      "id": "6af46320",
      "metadata": {},
      "outputs": [
        {
          "data": {
            "text/html": [
              "<div>\n",
              "<style scoped>\n",
              "    .dataframe tbody tr th:only-of-type {\n",
              "        vertical-align: middle;\n",
              "    }\n",
              "\n",
              "    .dataframe tbody tr th {\n",
              "        vertical-align: top;\n",
              "    }\n",
              "\n",
              "    .dataframe thead th {\n",
              "        text-align: right;\n",
              "    }\n",
              "</style>\n",
              "<table border=\"1\" class=\"dataframe\">\n",
              "  <thead>\n",
              "    <tr style=\"text-align: right;\">\n",
              "      <th></th>\n",
              "      <th>Unnamed: 0</th>\n",
              "      <th>id_realEstates</th>\n",
              "      <th>isNew</th>\n",
              "      <th>realEstate_name</th>\n",
              "      <th>phone_realEstate</th>\n",
              "      <th>url_inmueble</th>\n",
              "      <th>rooms</th>\n",
              "      <th>bathrooms</th>\n",
              "      <th>surface</th>\n",
              "      <th>price</th>\n",
              "      <th>...</th>\n",
              "      <th>level6Id</th>\n",
              "      <th>level7Id</th>\n",
              "      <th>level8Id</th>\n",
              "      <th>accuracy</th>\n",
              "      <th>latitude</th>\n",
              "      <th>longitude</th>\n",
              "      <th>zipCode</th>\n",
              "      <th>customZone</th>\n",
              "      <th>precio_normalizado</th>\n",
              "      <th>pps</th>\n",
              "    </tr>\n",
              "  </thead>\n",
              "  <tbody>\n",
              "    <tr>\n",
              "      <th>1</th>\n",
              "      <td>2</td>\n",
              "      <td>153867863</td>\n",
              "      <td>False</td>\n",
              "      <td>tecnocasa fuenlabrada ferrocarril</td>\n",
              "      <td>916358736.0</td>\n",
              "      <td>https://www.fotocasa.es/es/comprar/vivienda/ma...</td>\n",
              "      <td>3.0</td>\n",
              "      <td>1.0</td>\n",
              "      <td>NaN</td>\n",
              "      <td>89000</td>\n",
              "      <td>...</td>\n",
              "      <td>0</td>\n",
              "      <td>0</td>\n",
              "      <td>0</td>\n",
              "      <td>1</td>\n",
              "      <td>40,28674</td>\n",
              "      <td>-3,79351</td>\n",
              "      <td>NaN</td>\n",
              "      <td>NaN</td>\n",
              "      <td>0.000000</td>\n",
              "      <td>NaN</td>\n",
              "    </tr>\n",
              "    <tr>\n",
              "      <th>3</th>\n",
              "      <td>4</td>\n",
              "      <td>152776331</td>\n",
              "      <td>False</td>\n",
              "      <td>tecnocasa fuenlabrada ferrocarril</td>\n",
              "      <td>916358736.0</td>\n",
              "      <td>https://www.fotocasa.es/es/comprar/vivienda/ma...</td>\n",
              "      <td>3.0</td>\n",
              "      <td>1.0</td>\n",
              "      <td>86.0</td>\n",
              "      <td>89000</td>\n",
              "      <td>...</td>\n",
              "      <td>0</td>\n",
              "      <td>0</td>\n",
              "      <td>0</td>\n",
              "      <td>0</td>\n",
              "      <td>40,2853785786438</td>\n",
              "      <td>-3,79508142135624</td>\n",
              "      <td>NaN</td>\n",
              "      <td>NaN</td>\n",
              "      <td>0.000000</td>\n",
              "      <td>1034.883721</td>\n",
              "    </tr>\n",
              "    <tr>\n",
              "      <th>161</th>\n",
              "      <td>162</td>\n",
              "      <td>153440116</td>\n",
              "      <td>False</td>\n",
              "      <td>prolucisa</td>\n",
              "      <td>916350416.0</td>\n",
              "      <td>https://www.fotocasa.es/es/comprar/vivienda/ma...</td>\n",
              "      <td>3.0</td>\n",
              "      <td>2.0</td>\n",
              "      <td>123.0</td>\n",
              "      <td>239500</td>\n",
              "      <td>...</td>\n",
              "      <td>0</td>\n",
              "      <td>0</td>\n",
              "      <td>0</td>\n",
              "      <td>0</td>\n",
              "      <td>40,2744807718156</td>\n",
              "      <td>-3,79192471504211</td>\n",
              "      <td>NaN</td>\n",
              "      <td>NaN</td>\n",
              "      <td>0.375312</td>\n",
              "      <td>1947.154472</td>\n",
              "    </tr>\n",
              "    <tr>\n",
              "      <th>214</th>\n",
              "      <td>215</td>\n",
              "      <td>153950663</td>\n",
              "      <td>False</td>\n",
              "      <td>bidx1 espana</td>\n",
              "      <td>914892974.0</td>\n",
              "      <td>https://www.fotocasa.es/es/comprar/vivienda/fu...</td>\n",
              "      <td>4.0</td>\n",
              "      <td>2.0</td>\n",
              "      <td>175.0</td>\n",
              "      <td>184000</td>\n",
              "      <td>...</td>\n",
              "      <td>0</td>\n",
              "      <td>0</td>\n",
              "      <td>0</td>\n",
              "      <td>0</td>\n",
              "      <td>40,2906814213562</td>\n",
              "      <td>-3,80405242135624</td>\n",
              "      <td>NaN</td>\n",
              "      <td>NaN</td>\n",
              "      <td>0.236908</td>\n",
              "      <td>1051.428571</td>\n",
              "    </tr>\n",
              "    <tr>\n",
              "      <th>219</th>\n",
              "      <td>220</td>\n",
              "      <td>153971366</td>\n",
              "      <td>False</td>\n",
              "      <td>hogalia city</td>\n",
              "      <td>911224637.0</td>\n",
              "      <td>https://www.fotocasa.es/es/comprar/vivienda/sa...</td>\n",
              "      <td>3.0</td>\n",
              "      <td>1.0</td>\n",
              "      <td>78.0</td>\n",
              "      <td>163670</td>\n",
              "      <td>...</td>\n",
              "      <td>0</td>\n",
              "      <td>0</td>\n",
              "      <td>0</td>\n",
              "      <td>0</td>\n",
              "      <td>40,3152529585</td>\n",
              "      <td>-3,8365174323</td>\n",
              "      <td>NaN</td>\n",
              "      <td>NaN</td>\n",
              "      <td>0.186209</td>\n",
              "      <td>2098.333333</td>\n",
              "    </tr>\n",
              "    <tr>\n",
              "      <th>...</th>\n",
              "      <td>...</td>\n",
              "      <td>...</td>\n",
              "      <td>...</td>\n",
              "      <td>...</td>\n",
              "      <td>...</td>\n",
              "      <td>...</td>\n",
              "      <td>...</td>\n",
              "      <td>...</td>\n",
              "      <td>...</td>\n",
              "      <td>...</td>\n",
              "      <td>...</td>\n",
              "      <td>...</td>\n",
              "      <td>...</td>\n",
              "      <td>...</td>\n",
              "      <td>...</td>\n",
              "      <td>...</td>\n",
              "      <td>...</td>\n",
              "      <td>...</td>\n",
              "      <td>...</td>\n",
              "      <td>...</td>\n",
              "      <td>...</td>\n",
              "    </tr>\n",
              "    <tr>\n",
              "      <th>15274</th>\n",
              "      <td>15275</td>\n",
              "      <td>153903887</td>\n",
              "      <td>False</td>\n",
              "      <td>aliseda servicios de gestion inmobiliaria</td>\n",
              "      <td>911368198.0</td>\n",
              "      <td>https://www.fotocasa.es/es/comprar/vivienda/fu...</td>\n",
              "      <td>3.0</td>\n",
              "      <td>1.0</td>\n",
              "      <td>78.0</td>\n",
              "      <td>138000</td>\n",
              "      <td>...</td>\n",
              "      <td>0</td>\n",
              "      <td>0</td>\n",
              "      <td>0</td>\n",
              "      <td>1</td>\n",
              "      <td>40,31381</td>\n",
              "      <td>-3,83733</td>\n",
              "      <td>NaN</td>\n",
              "      <td>NaN</td>\n",
              "      <td>0.122195</td>\n",
              "      <td>1769.230769</td>\n",
              "    </tr>\n",
              "    <tr>\n",
              "      <th>15275</th>\n",
              "      <td>15276</td>\n",
              "      <td>153903887</td>\n",
              "      <td>False</td>\n",
              "      <td>aliseda servicios de gestion inmobiliaria</td>\n",
              "      <td>911368198.0</td>\n",
              "      <td>https://www.fotocasa.es/es/comprar/vivienda/al...</td>\n",
              "      <td>3.0</td>\n",
              "      <td>1.0</td>\n",
              "      <td>78.0</td>\n",
              "      <td>138000</td>\n",
              "      <td>...</td>\n",
              "      <td>0</td>\n",
              "      <td>0</td>\n",
              "      <td>0</td>\n",
              "      <td>1</td>\n",
              "      <td>40,31381</td>\n",
              "      <td>-3,83733</td>\n",
              "      <td>NaN</td>\n",
              "      <td>NaN</td>\n",
              "      <td>0.122195</td>\n",
              "      <td>1769.230769</td>\n",
              "    </tr>\n",
              "    <tr>\n",
              "      <th>15305</th>\n",
              "      <td>15306</td>\n",
              "      <td>153902389</td>\n",
              "      <td>False</td>\n",
              "      <td>jadein ferrero</td>\n",
              "      <td>914871639.0</td>\n",
              "      <td>https://www.fotocasa.es/es/comprar/vivienda/ma...</td>\n",
              "      <td>3.0</td>\n",
              "      <td>2.0</td>\n",
              "      <td>85.0</td>\n",
              "      <td>170000</td>\n",
              "      <td>...</td>\n",
              "      <td>0</td>\n",
              "      <td>0</td>\n",
              "      <td>0</td>\n",
              "      <td>0</td>\n",
              "      <td>40,2882193</td>\n",
              "      <td>-3,8098617</td>\n",
              "      <td>NaN</td>\n",
              "      <td>NaN</td>\n",
              "      <td>0.201995</td>\n",
              "      <td>2000.000000</td>\n",
              "    </tr>\n",
              "    <tr>\n",
              "      <th>15322</th>\n",
              "      <td>15323</td>\n",
              "      <td>153871864</td>\n",
              "      <td>False</td>\n",
              "      <td>gestion comercial</td>\n",
              "      <td>911220662.0</td>\n",
              "      <td>https://www.fotocasa.es/es/comprar/vivienda/ma...</td>\n",
              "      <td>3.0</td>\n",
              "      <td>1.0</td>\n",
              "      <td>91.0</td>\n",
              "      <td>112000</td>\n",
              "      <td>...</td>\n",
              "      <td>0</td>\n",
              "      <td>0</td>\n",
              "      <td>0</td>\n",
              "      <td>0</td>\n",
              "      <td>40,28282</td>\n",
              "      <td>-3,78892</td>\n",
              "      <td>NaN</td>\n",
              "      <td>NaN</td>\n",
              "      <td>0.057357</td>\n",
              "      <td>1230.769231</td>\n",
              "    </tr>\n",
              "    <tr>\n",
              "      <th>15325</th>\n",
              "      <td>15326</td>\n",
              "      <td>153901467</td>\n",
              "      <td>False</td>\n",
              "      <td>montehogar 68</td>\n",
              "      <td>911790675.0</td>\n",
              "      <td>https://www.fotocasa.es/es/comprar/vivienda/ma...</td>\n",
              "      <td>2.0</td>\n",
              "      <td>2.0</td>\n",
              "      <td>99.0</td>\n",
              "      <td>215000</td>\n",
              "      <td>...</td>\n",
              "      <td>0</td>\n",
              "      <td>0</td>\n",
              "      <td>0</td>\n",
              "      <td>1</td>\n",
              "      <td>40,28062</td>\n",
              "      <td>-3,79869</td>\n",
              "      <td>NaN</td>\n",
              "      <td>NaN</td>\n",
              "      <td>0.314214</td>\n",
              "      <td>2171.717172</td>\n",
              "    </tr>\n",
              "  </tbody>\n",
              "</table>\n",
              "<p>233 rows × 39 columns</p>\n",
              "</div>"
            ],
            "text/plain": [
              "       Unnamed: 0  id_realEstates  isNew  \\\n",
              "1               2       153867863  False   \n",
              "3               4       152776331  False   \n",
              "161           162       153440116  False   \n",
              "214           215       153950663  False   \n",
              "219           220       153971366  False   \n",
              "...           ...             ...    ...   \n",
              "15274       15275       153903887  False   \n",
              "15275       15276       153903887  False   \n",
              "15305       15306       153902389  False   \n",
              "15322       15323       153871864  False   \n",
              "15325       15326       153901467  False   \n",
              "\n",
              "                                 realEstate_name  phone_realEstate  \\\n",
              "1              tecnocasa fuenlabrada ferrocarril       916358736.0   \n",
              "3              tecnocasa fuenlabrada ferrocarril       916358736.0   \n",
              "161                                    prolucisa       916350416.0   \n",
              "214                                 bidx1 espana       914892974.0   \n",
              "219                                 hogalia city       911224637.0   \n",
              "...                                          ...               ...   \n",
              "15274  aliseda servicios de gestion inmobiliaria       911368198.0   \n",
              "15275  aliseda servicios de gestion inmobiliaria       911368198.0   \n",
              "15305                             jadein ferrero       914871639.0   \n",
              "15322                          gestion comercial       911220662.0   \n",
              "15325                              montehogar 68       911790675.0   \n",
              "\n",
              "                                            url_inmueble  rooms  bathrooms  \\\n",
              "1      https://www.fotocasa.es/es/comprar/vivienda/ma...    3.0        1.0   \n",
              "3      https://www.fotocasa.es/es/comprar/vivienda/ma...    3.0        1.0   \n",
              "161    https://www.fotocasa.es/es/comprar/vivienda/ma...    3.0        2.0   \n",
              "214    https://www.fotocasa.es/es/comprar/vivienda/fu...    4.0        2.0   \n",
              "219    https://www.fotocasa.es/es/comprar/vivienda/sa...    3.0        1.0   \n",
              "...                                                  ...    ...        ...   \n",
              "15274  https://www.fotocasa.es/es/comprar/vivienda/fu...    3.0        1.0   \n",
              "15275  https://www.fotocasa.es/es/comprar/vivienda/al...    3.0        1.0   \n",
              "15305  https://www.fotocasa.es/es/comprar/vivienda/ma...    3.0        2.0   \n",
              "15322  https://www.fotocasa.es/es/comprar/vivienda/ma...    3.0        1.0   \n",
              "15325  https://www.fotocasa.es/es/comprar/vivienda/ma...    2.0        2.0   \n",
              "\n",
              "       surface   price  ... level6Id level7Id level8Id accuracy  \\\n",
              "1          NaN   89000  ...        0        0        0        1   \n",
              "3         86.0   89000  ...        0        0        0        0   \n",
              "161      123.0  239500  ...        0        0        0        0   \n",
              "214      175.0  184000  ...        0        0        0        0   \n",
              "219       78.0  163670  ...        0        0        0        0   \n",
              "...        ...     ...  ...      ...      ...      ...      ...   \n",
              "15274     78.0  138000  ...        0        0        0        1   \n",
              "15275     78.0  138000  ...        0        0        0        1   \n",
              "15305     85.0  170000  ...        0        0        0        0   \n",
              "15322     91.0  112000  ...        0        0        0        0   \n",
              "15325     99.0  215000  ...        0        0        0        1   \n",
              "\n",
              "               latitude          longitude zipCode customZone  \\\n",
              "1              40,28674           -3,79351     NaN        NaN   \n",
              "3      40,2853785786438  -3,79508142135624     NaN        NaN   \n",
              "161    40,2744807718156  -3,79192471504211     NaN        NaN   \n",
              "214    40,2906814213562  -3,80405242135624     NaN        NaN   \n",
              "219       40,3152529585      -3,8365174323     NaN        NaN   \n",
              "...                 ...                ...     ...        ...   \n",
              "15274          40,31381           -3,83733     NaN        NaN   \n",
              "15275          40,31381           -3,83733     NaN        NaN   \n",
              "15305        40,2882193         -3,8098617     NaN        NaN   \n",
              "15322          40,28282           -3,78892     NaN        NaN   \n",
              "15325          40,28062           -3,79869     NaN        NaN   \n",
              "\n",
              "      precio_normalizado          pps  \n",
              "1               0.000000          NaN  \n",
              "3               0.000000  1034.883721  \n",
              "161             0.375312  1947.154472  \n",
              "214             0.236908  1051.428571  \n",
              "219             0.186209  2098.333333  \n",
              "...                  ...          ...  \n",
              "15274           0.122195  1769.230769  \n",
              "15275           0.122195  1769.230769  \n",
              "15305           0.201995  2000.000000  \n",
              "15322           0.057357  1230.769231  \n",
              "15325           0.314214  2171.717172  \n",
              "\n",
              "[233 rows x 39 columns]"
            ]
          },
          "execution_count": 28,
          "metadata": {},
          "output_type": "execute_result"
        }
      ],
      "source": [
        "fuenlabrada"
      ]
    },
    {
      "cell_type": "code",
      "execution_count": 34,
      "id": "accepting-airfare",
      "metadata": {},
      "outputs": [
        {
          "data": {
            "image/png": "[encoded data removed]",
            "text/plain": [
              "<Figure size 1000x600 with 4 Axes>"
            ]
          },
          "metadata": {},
          "output_type": "display_data"
        }
      ],
      "source": [
        "# TODO\n",
        "fig, axs = plt.subplots(2, 2,  figsize= (10, 6))\n",
        "# Filtramos los datos por cada población\n",
        "fuenlabrada = subconjunto[subconjunto['level5'] == 'Fuenlabrada']\n",
        "leganes = subconjunto[subconjunto['level5'] == 'Leganés']\n",
        "getafe = subconjunto[subconjunto['level5'] == 'Getafe']\n",
        "alcorcon = subconjunto[subconjunto['level5'] == 'Alcorcón']\n",
        "\n",
        "# Fuenlabrada\n",
        "axs[0, 0].scatter(fuenlabrada['rooms'], fuenlabrada['price'], color='blue')\n",
        "axs[0, 0].set_title('Fuenlabrada')\n",
        "axs[0, 0].set_xlabel('Rooms')\n",
        "axs[0, 0].set_ylabel('Price')\n",
        "\n",
        "# Leganés\n",
        "axs[0, 1].scatter(leganes['rooms'], leganes['price'], color='green')\n",
        "axs[0, 1].set_title('Leganés')\n",
        "axs[0, 1].set_xlabel('Rooms')\n",
        "axs[0, 1].set_ylabel('Price')\n",
        "\n",
        "# Getafe\n",
        "axs[1, 0].scatter(getafe['rooms'], getafe['price'], color='red')\n",
        "axs[1, 0].set_title('Getafe')\n",
        "axs[1, 0].set_xlabel('Rooms')\n",
        "axs[1, 0].set_ylabel('Price')\n",
        "\n",
        "# Alcorcón\n",
        "axs[1, 1].scatter(alcorcon['rooms'], alcorcon['price'], color='purple')\n",
        "axs[1, 1].set_title('Alcorcón')\n",
        "axs[1, 1].set_xlabel('Rooms')\n",
        "axs[1, 1].set_ylabel('Price')\n",
        "\n",
        "# Ajustamos los espacios entre los subgráficos\n",
        "plt.tight_layout()\n",
        "\n",
        "# Mostramos el gráfico\n",
        "plt.show()\n",
        "\n"
      ]
    },
    {
      "attachments": {},
      "cell_type": "markdown",
      "id": "blocked-effects",
      "metadata": {},
      "source": [
        "#### Ejercicio 21. Realiza un trazado de las coordenadas (columnas latitud y longitud) del cinturón sur de Madrid por color de cada población (debes usar el subconjunto obtenido del Ejercicio 14) (★★★★)\n",
        "\n",
        "Ejecuta la siguiente celda y luego comienza a codear en la siguiente. Debes implementar un código simple que transforme las columnas de coordenadas en un diccionario de Python (agrega más información si es necesario) y agrégala al mapa."
      ]
    },
    {
      "cell_type": "code",
      "execution_count": 22,
      "id": "headed-privacy",
      "metadata": {},
      "outputs": [
        {
          "ename": "AttributeError",
          "evalue": "Stamen",
          "output_type": "error",
          "traceback": [
            "\u001b[0;31m---------------------------------------------------------------------------\u001b[0m",
            "\u001b[0;31mKeyError\u001b[0m                                  Traceback (most recent call last)",
            "File \u001b[0;32m/workspaces/realestate-datacleanup-exercise/venv/lib/python3.11/site-packages/xyzservices/lib.py:45\u001b[0m, in \u001b[0;36mBunch.__getattr__\u001b[0;34m(self, key)\u001b[0m\n\u001b[1;32m     44\u001b[0m \u001b[38;5;28;01mtry\u001b[39;00m:\n\u001b[0;32m---> 45\u001b[0m     \u001b[38;5;28;01mreturn\u001b[39;00m \u001b[38;5;28;43mself\u001b[39;49m\u001b[38;5;241;43m.\u001b[39;49m\u001b[38;5;21;43m__getitem__\u001b[39;49m\u001b[43m(\u001b[49m\u001b[43mkey\u001b[49m\u001b[43m)\u001b[49m\n\u001b[1;32m     46\u001b[0m \u001b[38;5;28;01mexcept\u001b[39;00m \u001b[38;5;167;01mKeyError\u001b[39;00m \u001b[38;5;28;01mas\u001b[39;00m err:\n",
            "\u001b[0;31mKeyError\u001b[0m: 'Stamen'",
            "\nThe above exception was the direct cause of the following exception:\n",
            "\u001b[0;31mAttributeError\u001b[0m                            Traceback (most recent call last)",
            "Cell \u001b[0;32mIn[22], line 6\u001b[0m\n\u001b[1;32m      1\u001b[0m \u001b[38;5;28;01mfrom\u001b[39;00m \u001b[38;5;21;01mipyleaflet\u001b[39;00m \u001b[38;5;28;01mimport\u001b[39;00m Map, basemaps\n\u001b[1;32m      3\u001b[0m \u001b[38;5;66;03m# Mapa centrado en (60 grados latitud y -2.2 grados longitud)\u001b[39;00m\n\u001b[1;32m      4\u001b[0m \u001b[38;5;66;03m# Latitud, longitud\u001b[39;00m\n\u001b[1;32m      5\u001b[0m \u001b[38;5;28mmap\u001b[39m \u001b[38;5;241m=\u001b[39m Map(center \u001b[38;5;241m=\u001b[39m (\u001b[38;5;241m60\u001b[39m, \u001b[38;5;241m-\u001b[39m\u001b[38;5;241m2.2\u001b[39m), zoom \u001b[38;5;241m=\u001b[39m \u001b[38;5;241m2\u001b[39m, min_zoom \u001b[38;5;241m=\u001b[39m \u001b[38;5;241m1\u001b[39m, max_zoom \u001b[38;5;241m=\u001b[39m \u001b[38;5;241m20\u001b[39m, \n\u001b[0;32m----> 6\u001b[0m     basemap\u001b[38;5;241m=\u001b[39m\u001b[43mbasemaps\u001b[49m\u001b[38;5;241;43m.\u001b[39;49m\u001b[43mStamen\u001b[49m\u001b[38;5;241m.\u001b[39mTerrain)\n\u001b[1;32m      7\u001b[0m \u001b[38;5;28mmap\u001b[39m\n",
            "File \u001b[0;32m/workspaces/realestate-datacleanup-exercise/venv/lib/python3.11/site-packages/xyzservices/lib.py:47\u001b[0m, in \u001b[0;36mBunch.__getattr__\u001b[0;34m(self, key)\u001b[0m\n\u001b[1;32m     45\u001b[0m     \u001b[38;5;28;01mreturn\u001b[39;00m \u001b[38;5;28mself\u001b[39m\u001b[38;5;241m.\u001b[39m\u001b[38;5;21m__getitem__\u001b[39m(key)\n\u001b[1;32m     46\u001b[0m \u001b[38;5;28;01mexcept\u001b[39;00m \u001b[38;5;167;01mKeyError\u001b[39;00m \u001b[38;5;28;01mas\u001b[39;00m err:\n\u001b[0;32m---> 47\u001b[0m     \u001b[38;5;28;01mraise\u001b[39;00m \u001b[38;5;167;01mAttributeError\u001b[39;00m(key) \u001b[38;5;28;01mfrom\u001b[39;00m \u001b[38;5;21;01merr\u001b[39;00m\n",
            "\u001b[0;31mAttributeError\u001b[0m: Stamen"
          ]
        }
      ],
      "source": [
        "from ipyleaflet import Map, basemaps\n",
        "\n",
        "# Mapa centrado en (60 grados latitud y -2.2 grados longitud)\n",
        "# Latitud, longitud\n",
        "map = Map(center = (60, -2.2), zoom = 2, min_zoom = 1, max_zoom = 20, \n",
        "    basemap=basemaps.Stamen.Terrain)\n",
        "map"
      ]
    },
    {
      "cell_type": "code",
      "execution_count": null,
      "id": "present-mistress",
      "metadata": {},
      "outputs": [],
      "source": [
        "## Aquí: traza la coordenadas de los estados\n",
        "\n",
        "## PON TU CÓDIGO AQUÍ:\n",
        "\n",
        "\n"
      ]
    }
  ],
  "metadata": {
    "kernelspec": {
      "display_name": "Python 3",
      "language": "python",
      "name": "python3"
    },
    "language_info": {
      "codemirror_mode": {
        "name": "ipython",
        "version": 3
      },
      "file_extension": ".py",
      "mimetype": "text/x-python",
      "name": "python",
      "nbconvert_exporter": "python",
      "pygments_lexer": "ipython3",
      "version": "3.11.4"
    }
  },
  "nbformat": 4,
  "nbformat_minor": 5
}
